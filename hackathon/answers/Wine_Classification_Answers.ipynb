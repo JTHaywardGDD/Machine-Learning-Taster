{
 "cells": [
  {
   "cell_type": "markdown",
   "metadata": {},
   "source": [
    "# Scikit-Learn wine dataset\n",
    "\n",
    "Scikit-Learn comes with various standard datasets that can be used for practice (iris, digits, etc). One of these datasets contains information about different Italian wines.\n",
    "\n",
    "![](data:image/jpeg;base64,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)"
   ]
  },
  {
   "cell_type": "code",
   "execution_count": 1,
   "metadata": {},
   "outputs": [],
   "source": [
    "import numpy as np\n",
    "import pandas as pd\n",
    "import matplotlib.pylab as plt\n",
    "import seaborn as sns"
   ]
  },
  {
   "cell_type": "markdown",
   "metadata": {},
   "source": [
    "## Loading a dataset\n",
    "The dataset is in the `data/` folder"
   ]
  },
  {
   "cell_type": "code",
   "execution_count": 2,
   "metadata": {},
   "outputs": [
    {
     "data": {
      "text/html": [
       "<div>\n",
       "<style scoped>\n",
       "    .dataframe tbody tr th:only-of-type {\n",
       "        vertical-align: middle;\n",
       "    }\n",
       "\n",
       "    .dataframe tbody tr th {\n",
       "        vertical-align: top;\n",
       "    }\n",
       "\n",
       "    .dataframe thead th {\n",
       "        text-align: right;\n",
       "    }\n",
       "</style>\n",
       "<table border=\"1\" class=\"dataframe\">\n",
       "  <thead>\n",
       "    <tr style=\"text-align: right;\">\n",
       "      <th></th>\n",
       "      <th>alcohol</th>\n",
       "      <th>malic_acid</th>\n",
       "      <th>ash</th>\n",
       "      <th>alcalinity_of_ash</th>\n",
       "      <th>magnesium</th>\n",
       "      <th>total_phenols</th>\n",
       "      <th>flavanoids</th>\n",
       "      <th>nonflavanoid_phenols</th>\n",
       "      <th>proanthocyanins</th>\n",
       "      <th>color_intensity</th>\n",
       "      <th>hue</th>\n",
       "      <th>od280/od315_of_diluted_wines</th>\n",
       "      <th>proline</th>\n",
       "      <th>class</th>\n",
       "    </tr>\n",
       "  </thead>\n",
       "  <tbody>\n",
       "    <tr>\n",
       "      <th>0</th>\n",
       "      <td>14.23</td>\n",
       "      <td>1.71</td>\n",
       "      <td>2.43</td>\n",
       "      <td>15.6</td>\n",
       "      <td>127.0</td>\n",
       "      <td>2.80</td>\n",
       "      <td>3.06</td>\n",
       "      <td>0.28</td>\n",
       "      <td>2.29</td>\n",
       "      <td>5.64</td>\n",
       "      <td>1.04</td>\n",
       "      <td>3.92</td>\n",
       "      <td>1065.0</td>\n",
       "      <td>0</td>\n",
       "    </tr>\n",
       "    <tr>\n",
       "      <th>1</th>\n",
       "      <td>13.20</td>\n",
       "      <td>1.78</td>\n",
       "      <td>2.14</td>\n",
       "      <td>11.2</td>\n",
       "      <td>100.0</td>\n",
       "      <td>2.65</td>\n",
       "      <td>2.76</td>\n",
       "      <td>0.26</td>\n",
       "      <td>1.28</td>\n",
       "      <td>4.38</td>\n",
       "      <td>1.05</td>\n",
       "      <td>3.40</td>\n",
       "      <td>1050.0</td>\n",
       "      <td>0</td>\n",
       "    </tr>\n",
       "    <tr>\n",
       "      <th>2</th>\n",
       "      <td>13.16</td>\n",
       "      <td>2.36</td>\n",
       "      <td>2.67</td>\n",
       "      <td>18.6</td>\n",
       "      <td>101.0</td>\n",
       "      <td>2.80</td>\n",
       "      <td>3.24</td>\n",
       "      <td>0.30</td>\n",
       "      <td>2.81</td>\n",
       "      <td>5.68</td>\n",
       "      <td>1.03</td>\n",
       "      <td>3.17</td>\n",
       "      <td>1185.0</td>\n",
       "      <td>0</td>\n",
       "    </tr>\n",
       "    <tr>\n",
       "      <th>3</th>\n",
       "      <td>14.37</td>\n",
       "      <td>1.95</td>\n",
       "      <td>2.50</td>\n",
       "      <td>16.8</td>\n",
       "      <td>113.0</td>\n",
       "      <td>3.85</td>\n",
       "      <td>3.49</td>\n",
       "      <td>0.24</td>\n",
       "      <td>2.18</td>\n",
       "      <td>7.80</td>\n",
       "      <td>0.86</td>\n",
       "      <td>3.45</td>\n",
       "      <td>1480.0</td>\n",
       "      <td>0</td>\n",
       "    </tr>\n",
       "    <tr>\n",
       "      <th>4</th>\n",
       "      <td>13.24</td>\n",
       "      <td>2.59</td>\n",
       "      <td>2.87</td>\n",
       "      <td>21.0</td>\n",
       "      <td>118.0</td>\n",
       "      <td>2.80</td>\n",
       "      <td>2.69</td>\n",
       "      <td>0.39</td>\n",
       "      <td>1.82</td>\n",
       "      <td>4.32</td>\n",
       "      <td>1.04</td>\n",
       "      <td>2.93</td>\n",
       "      <td>735.0</td>\n",
       "      <td>0</td>\n",
       "    </tr>\n",
       "  </tbody>\n",
       "</table>\n",
       "</div>"
      ],
      "text/plain": [
       "   alcohol  malic_acid   ash  alcalinity_of_ash  magnesium  total_phenols  \\\n",
       "0    14.23        1.71  2.43               15.6      127.0           2.80   \n",
       "1    13.20        1.78  2.14               11.2      100.0           2.65   \n",
       "2    13.16        2.36  2.67               18.6      101.0           2.80   \n",
       "3    14.37        1.95  2.50               16.8      113.0           3.85   \n",
       "4    13.24        2.59  2.87               21.0      118.0           2.80   \n",
       "\n",
       "   flavanoids  nonflavanoid_phenols  proanthocyanins  color_intensity   hue  \\\n",
       "0        3.06                  0.28             2.29             5.64  1.04   \n",
       "1        2.76                  0.26             1.28             4.38  1.05   \n",
       "2        3.24                  0.30             2.81             5.68  1.03   \n",
       "3        3.49                  0.24             2.18             7.80  0.86   \n",
       "4        2.69                  0.39             1.82             4.32  1.04   \n",
       "\n",
       "   od280/od315_of_diluted_wines  proline  class  \n",
       "0                          3.92   1065.0      0  \n",
       "1                          3.40   1050.0      0  \n",
       "2                          3.17   1185.0      0  \n",
       "3                          3.45   1480.0      0  \n",
       "4                          2.93    735.0      0  "
      ]
     },
     "execution_count": 2,
     "metadata": {},
     "output_type": "execute_result"
    }
   ],
   "source": [
    "import pandas as pd\n",
    "wine = pd.read_csv('../data/wine.csv')\n",
    "wine.head()"
   ]
  },
  {
   "cell_type": "markdown",
   "metadata": {},
   "source": [
    "### Exercise: Using Pandas for Machine Learning projects\n",
    "\n",
    "Pandas is a great tool to use in combination with *Scikit-Learn* to organize, inspect and work in other ways with your data. Here we will revisit some of the Pandas tools in application to this ML project.\n",
    "\n",
    "Use your current knowledge of Pandas library with the provided `wine_df` to answer the following analytical questions.\n",
    "\n",
    "Could any of them be *better* answered with Machine Learning?\n",
    "\n",
    "1. how many rows and columns are present in the data?\n",
    "2. which data types are used by each column?\n",
    "3. verify that there are no missing values\n",
    "4. rename 'od280/od315_of_diluted_wines' into something more meaningful\n",
    "5. how many wines are present of each class?\n",
    "6. what is the median color intensity for class 0?\n",
    "7. Show a box-plot for colour intensity\n"
   ]
  },
  {
   "cell_type": "code",
   "execution_count": 3,
   "metadata": {},
   "outputs": [
    {
     "data": {
      "text/plain": [
       "(178, 14)"
      ]
     },
     "execution_count": 3,
     "metadata": {},
     "output_type": "execute_result"
    }
   ],
   "source": [
    "#1\n",
    "wine.shape"
   ]
  },
  {
   "cell_type": "code",
   "execution_count": 4,
   "metadata": {},
   "outputs": [
    {
     "data": {
      "text/plain": [
       "alcohol                         float64\n",
       "malic_acid                      float64\n",
       "ash                             float64\n",
       "alcalinity_of_ash               float64\n",
       "magnesium                       float64\n",
       "total_phenols                   float64\n",
       "flavanoids                      float64\n",
       "nonflavanoid_phenols            float64\n",
       "proanthocyanins                 float64\n",
       "color_intensity                 float64\n",
       "hue                             float64\n",
       "od280/od315_of_diluted_wines    float64\n",
       "proline                         float64\n",
       "class                             int64\n",
       "dtype: object"
      ]
     },
     "execution_count": 4,
     "metadata": {},
     "output_type": "execute_result"
    }
   ],
   "source": [
    "#2\n",
    "wine.dtypes"
   ]
  },
  {
   "cell_type": "code",
   "execution_count": 5,
   "metadata": {},
   "outputs": [
    {
     "data": {
      "text/plain": [
       "alcohol                         0\n",
       "malic_acid                      0\n",
       "ash                             0\n",
       "alcalinity_of_ash               0\n",
       "magnesium                       0\n",
       "total_phenols                   0\n",
       "flavanoids                      0\n",
       "nonflavanoid_phenols            0\n",
       "proanthocyanins                 0\n",
       "color_intensity                 0\n",
       "hue                             0\n",
       "od280/od315_of_diluted_wines    0\n",
       "proline                         0\n",
       "class                           0\n",
       "dtype: int64"
      ]
     },
     "execution_count": 5,
     "metadata": {},
     "output_type": "execute_result"
    }
   ],
   "source": [
    "# 2\n",
    "wine.isna().sum()"
   ]
  },
  {
   "cell_type": "code",
   "execution_count": 6,
   "metadata": {},
   "outputs": [
    {
     "name": "stdout",
     "output_type": "stream",
     "text": [
      "<class 'pandas.core.frame.DataFrame'>\n",
      "RangeIndex: 178 entries, 0 to 177\n",
      "Data columns (total 14 columns):\n",
      " #   Column                        Non-Null Count  Dtype  \n",
      "---  ------                        --------------  -----  \n",
      " 0   alcohol                       178 non-null    float64\n",
      " 1   malic_acid                    178 non-null    float64\n",
      " 2   ash                           178 non-null    float64\n",
      " 3   alcalinity_of_ash             178 non-null    float64\n",
      " 4   magnesium                     178 non-null    float64\n",
      " 5   total_phenols                 178 non-null    float64\n",
      " 6   flavanoids                    178 non-null    float64\n",
      " 7   nonflavanoid_phenols          178 non-null    float64\n",
      " 8   proanthocyanins               178 non-null    float64\n",
      " 9   color_intensity               178 non-null    float64\n",
      " 10  hue                           178 non-null    float64\n",
      " 11  od280/od315_of_diluted_wines  178 non-null    float64\n",
      " 12  proline                       178 non-null    float64\n",
      " 13  class                         178 non-null    int64  \n",
      "dtypes: float64(13), int64(1)\n",
      "memory usage: 19.6 KB\n"
     ]
    }
   ],
   "source": [
    "# 2 & 3\n",
    "wine.info()"
   ]
  },
  {
   "cell_type": "code",
   "execution_count": 7,
   "metadata": {},
   "outputs": [
    {
     "data": {
      "text/html": [
       "<div>\n",
       "<style scoped>\n",
       "    .dataframe tbody tr th:only-of-type {\n",
       "        vertical-align: middle;\n",
       "    }\n",
       "\n",
       "    .dataframe tbody tr th {\n",
       "        vertical-align: top;\n",
       "    }\n",
       "\n",
       "    .dataframe thead th {\n",
       "        text-align: right;\n",
       "    }\n",
       "</style>\n",
       "<table border=\"1\" class=\"dataframe\">\n",
       "  <thead>\n",
       "    <tr style=\"text-align: right;\">\n",
       "      <th></th>\n",
       "      <th>alcohol</th>\n",
       "      <th>malic_acid</th>\n",
       "      <th>ash</th>\n",
       "      <th>alcalinity_of_ash</th>\n",
       "      <th>magnesium</th>\n",
       "      <th>total_phenols</th>\n",
       "      <th>flavanoids</th>\n",
       "      <th>nonflavanoid_phenols</th>\n",
       "      <th>proanthocyanins</th>\n",
       "      <th>color_intensity</th>\n",
       "      <th>hue</th>\n",
       "      <th>protein_content</th>\n",
       "      <th>proline</th>\n",
       "      <th>class</th>\n",
       "    </tr>\n",
       "  </thead>\n",
       "  <tbody>\n",
       "    <tr>\n",
       "      <th>0</th>\n",
       "      <td>14.23</td>\n",
       "      <td>1.71</td>\n",
       "      <td>2.43</td>\n",
       "      <td>15.6</td>\n",
       "      <td>127.0</td>\n",
       "      <td>2.80</td>\n",
       "      <td>3.06</td>\n",
       "      <td>0.28</td>\n",
       "      <td>2.29</td>\n",
       "      <td>5.64</td>\n",
       "      <td>1.04</td>\n",
       "      <td>3.92</td>\n",
       "      <td>1065.0</td>\n",
       "      <td>0</td>\n",
       "    </tr>\n",
       "    <tr>\n",
       "      <th>1</th>\n",
       "      <td>13.20</td>\n",
       "      <td>1.78</td>\n",
       "      <td>2.14</td>\n",
       "      <td>11.2</td>\n",
       "      <td>100.0</td>\n",
       "      <td>2.65</td>\n",
       "      <td>2.76</td>\n",
       "      <td>0.26</td>\n",
       "      <td>1.28</td>\n",
       "      <td>4.38</td>\n",
       "      <td>1.05</td>\n",
       "      <td>3.40</td>\n",
       "      <td>1050.0</td>\n",
       "      <td>0</td>\n",
       "    </tr>\n",
       "    <tr>\n",
       "      <th>2</th>\n",
       "      <td>13.16</td>\n",
       "      <td>2.36</td>\n",
       "      <td>2.67</td>\n",
       "      <td>18.6</td>\n",
       "      <td>101.0</td>\n",
       "      <td>2.80</td>\n",
       "      <td>3.24</td>\n",
       "      <td>0.30</td>\n",
       "      <td>2.81</td>\n",
       "      <td>5.68</td>\n",
       "      <td>1.03</td>\n",
       "      <td>3.17</td>\n",
       "      <td>1185.0</td>\n",
       "      <td>0</td>\n",
       "    </tr>\n",
       "    <tr>\n",
       "      <th>3</th>\n",
       "      <td>14.37</td>\n",
       "      <td>1.95</td>\n",
       "      <td>2.50</td>\n",
       "      <td>16.8</td>\n",
       "      <td>113.0</td>\n",
       "      <td>3.85</td>\n",
       "      <td>3.49</td>\n",
       "      <td>0.24</td>\n",
       "      <td>2.18</td>\n",
       "      <td>7.80</td>\n",
       "      <td>0.86</td>\n",
       "      <td>3.45</td>\n",
       "      <td>1480.0</td>\n",
       "      <td>0</td>\n",
       "    </tr>\n",
       "    <tr>\n",
       "      <th>4</th>\n",
       "      <td>13.24</td>\n",
       "      <td>2.59</td>\n",
       "      <td>2.87</td>\n",
       "      <td>21.0</td>\n",
       "      <td>118.0</td>\n",
       "      <td>2.80</td>\n",
       "      <td>2.69</td>\n",
       "      <td>0.39</td>\n",
       "      <td>1.82</td>\n",
       "      <td>4.32</td>\n",
       "      <td>1.04</td>\n",
       "      <td>2.93</td>\n",
       "      <td>735.0</td>\n",
       "      <td>0</td>\n",
       "    </tr>\n",
       "  </tbody>\n",
       "</table>\n",
       "</div>"
      ],
      "text/plain": [
       "   alcohol  malic_acid   ash  alcalinity_of_ash  magnesium  total_phenols  \\\n",
       "0    14.23        1.71  2.43               15.6      127.0           2.80   \n",
       "1    13.20        1.78  2.14               11.2      100.0           2.65   \n",
       "2    13.16        2.36  2.67               18.6      101.0           2.80   \n",
       "3    14.37        1.95  2.50               16.8      113.0           3.85   \n",
       "4    13.24        2.59  2.87               21.0      118.0           2.80   \n",
       "\n",
       "   flavanoids  nonflavanoid_phenols  proanthocyanins  color_intensity   hue  \\\n",
       "0        3.06                  0.28             2.29             5.64  1.04   \n",
       "1        2.76                  0.26             1.28             4.38  1.05   \n",
       "2        3.24                  0.30             2.81             5.68  1.03   \n",
       "3        3.49                  0.24             2.18             7.80  0.86   \n",
       "4        2.69                  0.39             1.82             4.32  1.04   \n",
       "\n",
       "   protein_content  proline  class  \n",
       "0             3.92   1065.0      0  \n",
       "1             3.40   1050.0      0  \n",
       "2             3.17   1185.0      0  \n",
       "3             3.45   1480.0      0  \n",
       "4             2.93    735.0      0  "
      ]
     },
     "execution_count": 7,
     "metadata": {},
     "output_type": "execute_result"
    }
   ],
   "source": [
    "#4\n",
    "wine.rename(columns={'od280/od315_of_diluted_wines':'protein_content'}, inplace=True)\n",
    "wine.head()"
   ]
  },
  {
   "cell_type": "code",
   "execution_count": 8,
   "metadata": {},
   "outputs": [
    {
     "data": {
      "text/plain": [
       "1    71\n",
       "0    59\n",
       "2    48\n",
       "Name: class, dtype: int64"
      ]
     },
     "execution_count": 8,
     "metadata": {},
     "output_type": "execute_result"
    }
   ],
   "source": [
    "#5\n",
    "wine['class'].value_counts()"
   ]
  },
  {
   "cell_type": "code",
   "execution_count": 9,
   "metadata": {},
   "outputs": [
    {
     "data": {
      "text/plain": [
       "class\n",
       "0    5.40\n",
       "1    2.90\n",
       "2    7.55\n",
       "Name: color_intensity, dtype: float64"
      ]
     },
     "execution_count": 9,
     "metadata": {},
     "output_type": "execute_result"
    }
   ],
   "source": [
    "#6\n",
    "(\n",
    "    wine\n",
    "    .groupby('class')\n",
    "    .median()['color_intensity']\n",
    ")"
   ]
  },
  {
   "cell_type": "code",
   "execution_count": 10,
   "metadata": {},
   "outputs": [
    {
     "data": {
      "text/plain": [
       "<AxesSubplot:>"
      ]
     },
     "execution_count": 10,
     "metadata": {},
     "output_type": "execute_result"
    },
    {
     "data": {
      "image/png": "[encoded data removed]",
      "text/plain": [
       "<Figure size 432x288 with 1 Axes>"
      ]
     },
     "metadata": {
      "needs_background": "light"
     },
     "output_type": "display_data"
    }
   ],
   "source": [
    "#7\n",
    "(\n",
    "    wine['color_intensity']\n",
    "    .plot(kind='box', vert=False)\n",
    ")\n"
   ]
  },
  {
   "cell_type": "markdown",
   "metadata": {},
   "source": [
    "## Preparing the data for Sklearn\n",
    "Before a Scikit-learn model is trained, a dataframe is commonly split into an n-dimensional vector of features *X* and a 1-dimensional target vector _y_\n"
   ]
  },
  {
   "cell_type": "code",
   "execution_count": 11,
   "metadata": {},
   "outputs": [
    {
     "name": "stdout",
     "output_type": "stream",
     "text": [
      "(178, 13) (178,)\n"
     ]
    }
   ],
   "source": [
    "y = wine['class']\n",
    "X = wine.drop(['class'], axis=1)\n",
    "print(X.shape, y.shape)"
   ]
  },
  {
   "cell_type": "markdown",
   "metadata": {},
   "source": [
    "### Train-test split\n",
    "\n",
    "We then perform a train test split so that we can evaluate the model we have learnt."
   ]
  },
  {
   "cell_type": "code",
   "execution_count": 12,
   "metadata": {},
   "outputs": [],
   "source": [
    "from sklearn.model_selection import train_test_split\n",
    "X_train, X_test, y_train, y_test = train_test_split(X, y, test_size=0.3, random_state=111, stratify=y)"
   ]
  },
  {
   "cell_type": "markdown",
   "metadata": {},
   "source": [
    "## Training a model\n",
    "\n",
    "Using the structure you have seen previously, what is the best performance you can get on this dataset?\n",
    "\n",
    "- step 1: import a classifier\n",
    "- step 2: instantiate the classifier\n",
    "- step 3: fit the model on the training data\n",
    "- step 4: make predictions on the test\n",
    "- step 5: import some metrics and evaluate your predictions\n",
    "\n",
    "What other interesting things can you do with your model?"
   ]
  },
  {
   "cell_type": "code",
   "execution_count": 13,
   "metadata": {},
   "outputs": [],
   "source": [
    "from sklearn.tree import DecisionTreeClassifier\n",
    "from sklearn.ensemble import RandomForestClassifier\n",
    "from sklearn.svm import SVC\n",
    "from sklearn.neighbors import KNeighborsClassifier\n",
    "\n",
    "# Uncomment the model that you want to try\n",
    "model = DecisionTreeClassifier()\n",
    "#model = RandomForestClassifier(n_estimators=1000)\n",
    "# model = SVC()\n",
    "#model = KNeighborsClassifier()"
   ]
  },
  {
   "cell_type": "code",
   "execution_count": 14,
   "metadata": {},
   "outputs": [
    {
     "name": "stdout",
     "output_type": "stream",
     "text": [
      "Model accuracy: 0.9074074074074074\n",
      "              precision    recall  f1-score   support\n",
      "\n",
      "           0       0.82      1.00      0.90        18\n",
      "           1       0.94      0.81      0.87        21\n",
      "           2       1.00      0.93      0.97        15\n",
      "\n",
      "    accuracy                           0.91        54\n",
      "   macro avg       0.92      0.91      0.91        54\n",
      "weighted avg       0.92      0.91      0.91        54\n",
      "\n"
     ]
    }
   ],
   "source": [
    "from sklearn.metrics import accuracy_score, classification_report\n",
    "model.fit(X_train, y_train)\n",
    "y_pred = model.predict(X_test)\n",
    "report = classification_report(y_test, y_pred)\n",
    "print(f'Model accuracy: {model.score(X_test, y_test)}')\n",
    "print(report)"
   ]
  },
  {
   "cell_type": "code",
   "execution_count": 15,
   "metadata": {},
   "outputs": [
    {
     "data": {
      "image/png": "[encoded data removed]",
      "text/plain": [
       "<Figure size 1008x720 with 1 Axes>"
      ]
     },
     "metadata": {
      "needs_background": "light"
     },
     "output_type": "display_data"
    }
   ],
   "source": [
    "from sklearn.tree import plot_tree\n",
    "\n",
    "labels = ['class 0', 'class 1', 'class 2']\n",
    "\n",
    "fig, ax = plt.subplots(figsize=(14,10))\n",
    "\n",
    "plot_tree(model, ax=ax, feature_names = X.columns, class_names=labels);"
   ]
  }
 ],
 "metadata": {
  "kernelspec": {
   "display_name": "Python 3",
   "language": "python",
   "name": "python3"
  },
  "language_info": {
   "codemirror_mode": {
    "name": "ipython",
    "version": 3
   },
   "file_extension": ".py",
   "mimetype": "text/x-python",
   "name": "python",
   "nbconvert_exporter": "python",
   "pygments_lexer": "ipython3",
   "version": "3.8.3"
  }
 },
 "nbformat": 4,
 "nbformat_minor": 2
}
